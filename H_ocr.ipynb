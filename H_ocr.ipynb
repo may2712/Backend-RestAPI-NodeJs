{
  "nbformat": 4,
  "nbformat_minor": 0,
  "metadata": {
    "colab": {
      "provenance": [],
      "authorship_tag": "ABX9TyN8Mn20a4k8P/6GheIoqLot",
      "include_colab_link": true
    },
    "kernelspec": {
      "name": "python3",
      "display_name": "Python 3"
    },
    "language_info": {
      "name": "python"
    }
  },
  "cells": [
    {
      "cell_type": "markdown",
      "metadata": {
        "id": "view-in-github",
        "colab_type": "text"
      },
      "source": [
        "<a href=\"https://colab.research.google.com/github/may2712/Backend-RestAPI-NodeJs/blob/main/H_ocr.ipynb\" target=\"_parent\"><img src=\"https://colab.research.google.com/assets/colab-badge.svg\" alt=\"Open In Colab\"/></a>"
      ]
    },
    {
      "cell_type": "code",
      "source": [
        "!apt-get install tesseract-ocr -y\n",
        "!pip install pytesseract beautifulsoup4 hocr-tools"
      ],
      "metadata": {
        "colab": {
          "base_uri": "https://localhost:8080/"
        },
        "id": "QoOIML9x1eZI",
        "outputId": "1f4f5b34-3c83-4c52-80d7-9f387eb438fd"
      },
      "execution_count": 4,
      "outputs": [
        {
          "output_type": "stream",
          "name": "stdout",
          "text": [
            "Reading package lists... Done\n",
            "Building dependency tree... Done\n",
            "Reading state information... Done\n",
            "tesseract-ocr is already the newest version (4.1.1-2.1build1).\n",
            "0 upgraded, 0 newly installed, 0 to remove and 35 not upgraded.\n",
            "Requirement already satisfied: pytesseract in /usr/local/lib/python3.11/dist-packages (0.3.13)\n",
            "Requirement already satisfied: beautifulsoup4 in /usr/local/lib/python3.11/dist-packages (4.13.4)\n",
            "Collecting hocr-tools\n",
            "  Downloading hocr-tools-1.1.1.tar.gz (12 kB)\n",
            "  Preparing metadata (setup.py) ... \u001b[?25l\u001b[?25hdone\n",
            "Requirement already satisfied: packaging>=21.3 in /usr/local/lib/python3.11/dist-packages (from pytesseract) (24.2)\n",
            "Requirement already satisfied: Pillow>=8.0.0 in /usr/local/lib/python3.11/dist-packages (from pytesseract) (11.2.1)\n",
            "Requirement already satisfied: soupsieve>1.2 in /usr/local/lib/python3.11/dist-packages (from beautifulsoup4) (2.7)\n",
            "Requirement already satisfied: typing-extensions>=4.0.0 in /usr/local/lib/python3.11/dist-packages (from beautifulsoup4) (4.14.0)\n",
            "Requirement already satisfied: lxml in /usr/local/lib/python3.11/dist-packages (from hocr-tools) (5.4.0)\n",
            "Collecting reportlab (from hocr-tools)\n",
            "  Downloading reportlab-4.4.2-py3-none-any.whl.metadata (1.8 kB)\n",
            "Requirement already satisfied: charset-normalizer in /usr/local/lib/python3.11/dist-packages (from reportlab->hocr-tools) (3.4.2)\n",
            "Downloading reportlab-4.4.2-py3-none-any.whl (2.0 MB)\n",
            "\u001b[2K   \u001b[90m━━━━━━━━━━━━━━━━━━━━━━━━━━━━━━━━━━━━━━━━\u001b[0m \u001b[32m2.0/2.0 MB\u001b[0m \u001b[31m21.0 MB/s\u001b[0m eta \u001b[36m0:00:00\u001b[0m\n",
            "\u001b[?25hBuilding wheels for collected packages: hocr-tools\n",
            "  Building wheel for hocr-tools (setup.py) ... \u001b[?25l\u001b[?25hdone\n",
            "  Created wheel for hocr-tools: filename=hocr_tools-1.1.1-py3-none-any.whl size=18480 sha256=c2c5f5562ca81bab033f15fb17dfe6d9515d5d44fa3d27572571e09f4ca3d0eb\n",
            "  Stored in directory: /root/.cache/pip/wheels/a4/c8/e9/aa523bc7119c61f24a5e4cd208412b29c7deba92356f2bff36\n",
            "Successfully built hocr-tools\n",
            "Installing collected packages: reportlab, hocr-tools\n",
            "Successfully installed hocr-tools-1.1.1 reportlab-4.4.2\n"
          ]
        }
      ]
    },
    {
      "cell_type": "code",
      "source": [
        "from google.colab import files\n",
        "uploaded = files.upload()"
      ],
      "metadata": {
        "colab": {
          "base_uri": "https://localhost:8080/",
          "height": 73
        },
        "id": "8JlvMY7h2w_l",
        "outputId": "6870c83f-f561-46d4-af92-e700d0604326"
      },
      "execution_count": 5,
      "outputs": [
        {
          "output_type": "display_data",
          "data": {
            "text/plain": [
              "<IPython.core.display.HTML object>"
            ],
            "text/html": [
              "\n",
              "     <input type=\"file\" id=\"files-dd0e5cef-0f75-4117-9a8b-f008d6ab27b2\" name=\"files[]\" multiple disabled\n",
              "        style=\"border:none\" />\n",
              "     <output id=\"result-dd0e5cef-0f75-4117-9a8b-f008d6ab27b2\">\n",
              "      Upload widget is only available when the cell has been executed in the\n",
              "      current browser session. Please rerun this cell to enable.\n",
              "      </output>\n",
              "      <script>// Copyright 2017 Google LLC\n",
              "//\n",
              "// Licensed under the Apache License, Version 2.0 (the \"License\");\n",
              "// you may not use this file except in compliance with the License.\n",
              "// You may obtain a copy of the License at\n",
              "//\n",
              "//      http://www.apache.org/licenses/LICENSE-2.0\n",
              "//\n",
              "// Unless required by applicable law or agreed to in writing, software\n",
              "// distributed under the License is distributed on an \"AS IS\" BASIS,\n",
              "// WITHOUT WARRANTIES OR CONDITIONS OF ANY KIND, either express or implied.\n",
              "// See the License for the specific language governing permissions and\n",
              "// limitations under the License.\n",
              "\n",
              "/**\n",
              " * @fileoverview Helpers for google.colab Python module.\n",
              " */\n",
              "(function(scope) {\n",
              "function span(text, styleAttributes = {}) {\n",
              "  const element = document.createElement('span');\n",
              "  element.textContent = text;\n",
              "  for (const key of Object.keys(styleAttributes)) {\n",
              "    element.style[key] = styleAttributes[key];\n",
              "  }\n",
              "  return element;\n",
              "}\n",
              "\n",
              "// Max number of bytes which will be uploaded at a time.\n",
              "const MAX_PAYLOAD_SIZE = 100 * 1024;\n",
              "\n",
              "function _uploadFiles(inputId, outputId) {\n",
              "  const steps = uploadFilesStep(inputId, outputId);\n",
              "  const outputElement = document.getElementById(outputId);\n",
              "  // Cache steps on the outputElement to make it available for the next call\n",
              "  // to uploadFilesContinue from Python.\n",
              "  outputElement.steps = steps;\n",
              "\n",
              "  return _uploadFilesContinue(outputId);\n",
              "}\n",
              "\n",
              "// This is roughly an async generator (not supported in the browser yet),\n",
              "// where there are multiple asynchronous steps and the Python side is going\n",
              "// to poll for completion of each step.\n",
              "// This uses a Promise to block the python side on completion of each step,\n",
              "// then passes the result of the previous step as the input to the next step.\n",
              "function _uploadFilesContinue(outputId) {\n",
              "  const outputElement = document.getElementById(outputId);\n",
              "  const steps = outputElement.steps;\n",
              "\n",
              "  const next = steps.next(outputElement.lastPromiseValue);\n",
              "  return Promise.resolve(next.value.promise).then((value) => {\n",
              "    // Cache the last promise value to make it available to the next\n",
              "    // step of the generator.\n",
              "    outputElement.lastPromiseValue = value;\n",
              "    return next.value.response;\n",
              "  });\n",
              "}\n",
              "\n",
              "/**\n",
              " * Generator function which is called between each async step of the upload\n",
              " * process.\n",
              " * @param {string} inputId Element ID of the input file picker element.\n",
              " * @param {string} outputId Element ID of the output display.\n",
              " * @return {!Iterable<!Object>} Iterable of next steps.\n",
              " */\n",
              "function* uploadFilesStep(inputId, outputId) {\n",
              "  const inputElement = document.getElementById(inputId);\n",
              "  inputElement.disabled = false;\n",
              "\n",
              "  const outputElement = document.getElementById(outputId);\n",
              "  outputElement.innerHTML = '';\n",
              "\n",
              "  const pickedPromise = new Promise((resolve) => {\n",
              "    inputElement.addEventListener('change', (e) => {\n",
              "      resolve(e.target.files);\n",
              "    });\n",
              "  });\n",
              "\n",
              "  const cancel = document.createElement('button');\n",
              "  inputElement.parentElement.appendChild(cancel);\n",
              "  cancel.textContent = 'Cancel upload';\n",
              "  const cancelPromise = new Promise((resolve) => {\n",
              "    cancel.onclick = () => {\n",
              "      resolve(null);\n",
              "    };\n",
              "  });\n",
              "\n",
              "  // Wait for the user to pick the files.\n",
              "  const files = yield {\n",
              "    promise: Promise.race([pickedPromise, cancelPromise]),\n",
              "    response: {\n",
              "      action: 'starting',\n",
              "    }\n",
              "  };\n",
              "\n",
              "  cancel.remove();\n",
              "\n",
              "  // Disable the input element since further picks are not allowed.\n",
              "  inputElement.disabled = true;\n",
              "\n",
              "  if (!files) {\n",
              "    return {\n",
              "      response: {\n",
              "        action: 'complete',\n",
              "      }\n",
              "    };\n",
              "  }\n",
              "\n",
              "  for (const file of files) {\n",
              "    const li = document.createElement('li');\n",
              "    li.append(span(file.name, {fontWeight: 'bold'}));\n",
              "    li.append(span(\n",
              "        `(${file.type || 'n/a'}) - ${file.size} bytes, ` +\n",
              "        `last modified: ${\n",
              "            file.lastModifiedDate ? file.lastModifiedDate.toLocaleDateString() :\n",
              "                                    'n/a'} - `));\n",
              "    const percent = span('0% done');\n",
              "    li.appendChild(percent);\n",
              "\n",
              "    outputElement.appendChild(li);\n",
              "\n",
              "    const fileDataPromise = new Promise((resolve) => {\n",
              "      const reader = new FileReader();\n",
              "      reader.onload = (e) => {\n",
              "        resolve(e.target.result);\n",
              "      };\n",
              "      reader.readAsArrayBuffer(file);\n",
              "    });\n",
              "    // Wait for the data to be ready.\n",
              "    let fileData = yield {\n",
              "      promise: fileDataPromise,\n",
              "      response: {\n",
              "        action: 'continue',\n",
              "      }\n",
              "    };\n",
              "\n",
              "    // Use a chunked sending to avoid message size limits. See b/62115660.\n",
              "    let position = 0;\n",
              "    do {\n",
              "      const length = Math.min(fileData.byteLength - position, MAX_PAYLOAD_SIZE);\n",
              "      const chunk = new Uint8Array(fileData, position, length);\n",
              "      position += length;\n",
              "\n",
              "      const base64 = btoa(String.fromCharCode.apply(null, chunk));\n",
              "      yield {\n",
              "        response: {\n",
              "          action: 'append',\n",
              "          file: file.name,\n",
              "          data: base64,\n",
              "        },\n",
              "      };\n",
              "\n",
              "      let percentDone = fileData.byteLength === 0 ?\n",
              "          100 :\n",
              "          Math.round((position / fileData.byteLength) * 100);\n",
              "      percent.textContent = `${percentDone}% done`;\n",
              "\n",
              "    } while (position < fileData.byteLength);\n",
              "  }\n",
              "\n",
              "  // All done.\n",
              "  yield {\n",
              "    response: {\n",
              "      action: 'complete',\n",
              "    }\n",
              "  };\n",
              "}\n",
              "\n",
              "scope.google = scope.google || {};\n",
              "scope.google.colab = scope.google.colab || {};\n",
              "scope.google.colab._files = {\n",
              "  _uploadFiles,\n",
              "  _uploadFilesContinue,\n",
              "};\n",
              "})(self);\n",
              "</script> "
            ]
          },
          "metadata": {}
        },
        {
          "output_type": "stream",
          "name": "stdout",
          "text": [
            "Saving paragraphe_hocr_output.png to paragraphe_hocr_output.png\n"
          ]
        }
      ]
    },
    {
      "cell_type": "code",
      "source": [
        "import pytesseract\n",
        "from PIL import Image\n",
        "import os\n",
        "\n",
        "# Load image\n",
        "image_path = list(uploaded.keys())[0]\n",
        "image = Image.open(image_path)\n",
        "\n",
        "# Generate hOCR output\n",
        "hocr_output = pytesseract.image_to_pdf_or_hocr(image, extension='hocr')\n",
        "\n",
        "# Save to file\n",
        "hocr_file_path = 'output.hocr'\n",
        "with open(hocr_file_path, 'wb') as f:\n",
        "    f.write(hocr_output)\n"
      ],
      "metadata": {
        "id": "KWszsz5d24qV"
      },
      "execution_count": 6,
      "outputs": []
    },
    {
      "cell_type": "code",
      "source": [
        "hocr_output"
      ],
      "metadata": {
        "colab": {
          "base_uri": "https://localhost:8080/"
        },
        "id": "eyAH9lOk29BN",
        "outputId": "3dc2030f-49d1-4a78-e3f6-43c12c02cfd3"
      },
      "execution_count": 7,
      "outputs": [
        {
          "output_type": "execute_result",
          "data": {
            "text/plain": [
              "b'<?xml version=\"1.0\" encoding=\"UTF-8\"?>\\n<!DOCTYPE html PUBLIC \"-//W3C//DTD XHTML 1.0 Transitional//EN\"\\n    \"http://www.w3.org/TR/xhtml1/DTD/xhtml1-transitional.dtd\">\\n<html xmlns=\"http://www.w3.org/1999/xhtml\" xml:lang=\"en\" lang=\"en\">\\n <head>\\n  <title></title>\\n  <meta http-equiv=\"Content-Type\" content=\"text/html;charset=utf-8\"/>\\n  <meta name=\\'ocr-system\\' content=\\'tesseract 4.1.1\\' />\\n  <meta name=\\'ocr-capabilities\\' content=\\'ocr_page ocr_carea ocr_par ocr_line ocrx_word ocrp_wconf\\'/>\\n </head>\\n <body>\\n  <div class=\\'ocr_page\\' id=\\'page_1\\' title=\\'image \"/tmp/tess_f9w1jqs7_input.PNG\"; bbox 0 0 526 282; ppageno 0\\'>\\n   <div class=\\'ocr_carea\\' id=\\'block_1_1\\' title=\"bbox 4 9 43 21\">\\n    <p class=\\'ocr_par\\' id=\\'par_1_1\\' lang=\\'eng\\' title=\"bbox 4 9 43 21\">\\n     <span class=\\'ocr_line\\' id=\\'line_1_1\\' title=\"bbox 4 9 43 21; baseline 0 261; x_size 20; x_descenders 5; x_ascenders 5\">\\n      <span class=\\'ocrx_word\\' id=\\'word_1_1\\' title=\\'bbox 4 9 43 21; x_wconf 95\\'> </span>\\n     </span>\\n    </p>\\n   </div>\\n   <div class=\\'ocr_carea\\' id=\\'block_1_2\\' title=\"bbox 32 7 328 42\">\\n    <p class=\\'ocr_par\\' id=\\'par_1_2\\' lang=\\'eng\\' title=\"bbox 32 7 328 42\">\\n     <span class=\\'ocr_line\\' id=\\'line_1_2\\' title=\"bbox 50 7 328 24; baseline 0 -4; x_size 24.25; x_descenders 5.5; x_ascenders 6.25\">\\n      <span class=\\'ocrx_word\\' id=\\'word_1_2\\' title=\\'bbox 50 8 97 20; x_wconf 93\\'>Texte</span>\\n      <span class=\\'ocrx_word\\' id=\\'word_1_3\\' title=\\'bbox 109 7 174 24; x_wconf 91\\'>corrig\\xc3\\xa9</span>\\n      <span class=\\'ocrx_word\\' id=\\'word_1_4\\' title=\\'bbox 185 7 328 24; x_wconf 92\\'>automatiquement</span>\\n     </span>\\n     <span class=\\'ocr_line\\' id=\\'line_1_3\\' title=\"bbox 32 29 106 42; baseline 0 0; x_size 24.25; x_descenders 5.5; x_ascenders 6.25\">\\n      <span class=\\'ocrx_word\\' id=\\'word_1_5\\' title=\\'bbox 32 29 46 42; x_wconf 0\\'>J\\xe2\\x80\\x99</span>\\n      <span class=\\'ocrx_word\\' id=\\'word_1_6\\' title=\\'bbox 51 29 106 42; x_wconf 0\\'>admire</span>\\n     </span>\\n    </p>\\n   </div>\\n   <div class=\\'ocr_carea\\' id=\\'block_1_3\\' title=\"bbox 335 9 375 21\">\\n    <p class=\\'ocr_par\\' id=\\'par_1_3\\' lang=\\'eng\\' title=\"bbox 335 9 375 21\">\\n     <span class=\\'ocr_line\\' id=\\'line_1_4\\' title=\"bbox 335 9 375 21; baseline 0 261; x_size 20; x_descenders 5; x_ascenders 5\">\\n      <span class=\\'ocrx_word\\' id=\\'word_1_7\\' title=\\'bbox 335 9 375 21; x_wconf 95\\'> </span>\\n     </span>\\n    </p>\\n   </div>\\n   <div class=\\'ocr_carea\\' id=\\'block_1_4\\' title=\"bbox 22 72 511 219\">\\n    <p class=\\'ocr_par\\' id=\\'par_1_4\\' lang=\\'eng\\' title=\"bbox 22 72 511 219\">\\n     <span class=\\'ocr_line\\' id=\\'line_1_5\\' title=\"bbox 22 72 443 89; baseline 0 -4; x_size 25.75; x_descenders 5.5; x_ascenders 6.75\">\\n      <span class=\\'ocrx_word\\' id=\\'word_1_8\\' title=\\'bbox 22 72 58 85; x_wconf 64\\'>Jai</span>\\n      <span class=\\'ocrx_word\\' id=\\'word_1_9\\' title=\\'bbox 70 76 97 85; x_wconf 91\\'>une</span>\\n      <span class=\\'ocrx_word\\' id=\\'word_1_10\\' title=\\'bbox 108 72 164 89; x_wconf 95\\'>grande</span>\\n      <span class=\\'ocrx_word\\' id=\\'word_1_11\\' title=\\'bbox 176 72 260 85; x_wconf 96\\'>affection</span>\\n      <span class=\\'ocrx_word\\' id=\\'word_1_12\\' title=\\'bbox 272 76 309 89; x_wconf 96\\'>pour</span>\\n      <span class=\\'ocrx_word\\' id=\\'word_1_13\\' title=\\'bbox 320 72 347 85; x_wconf 95\\'>les</span>\\n      <span class=\\'ocrx_word\\' id=\\'word_1_14\\' title=\\'bbox 359 76 443 89; x_wconf 95\\'>personnes</span>\\n     </span>\\n     <span class=\\'ocr_line\\' id=\\'line_1_6\\' title=\"bbox 50 94 491 111; baseline 0 -4; x_size 25.75; x_descenders 5.5; x_ascenders 6.75\">\\n      <span class=\\'ocrx_word\\' id=\\'word_1_15\\' title=\\'bbox 50 94 77 111; x_wconf 90\\'>qui</span>\\n      <span class=\\'ocrx_word\\' id=\\'word_1_16\\' title=\\'bbox 89 94 154 107; x_wconf 90\\'>hurlent</span>\\n      <span class=\\'ocrx_word\\' id=\\'word_1_17\\' title=\\'bbox 166 98 183 107; x_wconf 96\\'>en</span>\\n      <span class=\\'ocrx_word\\' id=\\'word_1_18\\' title=\\'bbox 195 94 268 110; x_wconf 96\\'>silence,</span>\\n      <span class=\\'ocrx_word\\' id=\\'word_1_19\\' title=\\'bbox 281 94 318 107; x_wconf 96\\'>dont</span>\\n      <span class=\\'ocrx_word\\' id=\\'word_1_20\\' title=\\'bbox 330 94 347 107; x_wconf 93\\'>le</span>\\n      <span class=\\'ocrx_word\\' id=\\'word_1_21\\' title=\\'bbox 359 94 431 110; x_wconf 92\\'>sourire,</span>\\n      <span class=\\'ocrx_word\\' id=\\'word_1_22\\' title=\\'bbox 445 94 491 111; x_wconf 96\\'>quasi</span>\\n     </span>\\n     <span class=\\'ocr_line\\' id=\\'line_1_7\\' title=\"bbox 51 115 511 132; baseline 0 -4; x_size 25.75; x_descenders 5.5; x_ascenders 6.75\">\\n      <span class=\\'ocrx_word\\' id=\\'word_1_23\\' title=\\'bbox 51 115 123 132; x_wconf 95\\'>parfait,</span>\\n      <span class=\\'ocrx_word\\' id=\\'word_1_24\\' title=\\'bbox 137 115 183 128; x_wconf 95\\'>cache</span>\\n      <span class=\\'ocrx_word\\' id=\\'word_1_25\\' title=\\'bbox 195 119 222 128; x_wconf 93\\'>une</span>\\n      <span class=\\'ocrx_word\\' id=\\'word_1_26\\' title=\\'bbox 234 115 318 128; x_wconf 92\\'>cicatrice</span>\\n      <span class=\\'ocrx_word\\' id=\\'word_1_27\\' title=\\'bbox 330 115 421 128; x_wconf 87\\'>brillante.</span>\\n      <span class=\\'ocrx_word\\' id=\\'word_1_28\\' title=\\'bbox 436 115 511 128; x_wconf 64\\'>J\\xe2\\x80\\x99admire</span>\\n     </span>\\n     <span class=\\'ocr_line\\' id=\\'line_1_8\\' title=\"bbox 51 137 479 154; baseline 0 -4; x_size 25.75; x_descenders 5.5; x_ascenders 6.75\">\\n      <span class=\\'ocrx_word\\' id=\\'word_1_29\\' title=\\'bbox 51 141 77 150; x_wconf 87\\'>ces</span>\\n      <span class=\\'ocrx_word\\' id=\\'word_1_30\\' title=\\'bbox 89 137 154 154; x_wconf 50\\'>gens-18</span>\\n      <span class=\\'ocrx_word\\' id=\\'word_1_31\\' title=\\'bbox 166 141 212 154; x_wconf 93\\'>parce</span>\\n      <span class=\\'ocrx_word\\' id=\\'word_1_32\\' title=\\'bbox 224 137 279 154; x_wconf 89\\'>qu\\xe2\\x80\\x99ils</span>\\n      <span class=\\'ocrx_word\\' id=\\'word_1_33\\' title=\\'bbox 291 138 326 153; x_wconf 96\\'>ont,</span>\\n      <span class=\\'ocrx_word\\' id=\\'word_1_34\\' title=\\'bbox 340 141 375 150; x_wconf 96\\'>sans</span>\\n      <span class=\\'ocrx_word\\' id=\\'word_1_35\\' title=\\'bbox 388 137 405 150; x_wconf 96\\'>le</span>\\n      <span class=\\'ocrx_word\\' id=\\'word_1_36\\' title=\\'bbox 417 137 479 153; x_wconf 96\\'>savoir,</span>\\n     </span>\\n     <span class=\\'ocr_line\\' id=\\'line_1_9\\' title=\"bbox 51 158 472 176; baseline 0 -4; x_size 25.75; x_descenders 5.5; x_ascenders 6.75\">\\n      <span class=\\'ocrx_word\\' id=\\'word_1_37\\' title=\\'bbox 51 159 164 176; x_wconf 92\\'>intelligence</span>\\n      <span class=\\'ocrx_word\\' id=\\'word_1_38\\' title=\\'bbox 175 159 193 172; x_wconf 93\\'>de</span>\\n      <span class=\\'ocrx_word\\' id=\\'word_1_39\\' title=\\'bbox 205 163 222 172; x_wconf 93\\'>ne</span>\\n      <span class=\\'ocrx_word\\' id=\\'word_1_40\\' title=\\'bbox 234 163 260 176; x_wconf 93\\'>pas</span>\\n      <span class=\\'ocrx_word\\' id=\\'word_1_41\\' title=\\'bbox 271 160 376 172; x_wconf 92\\'>transmettre</span>\\n      <span class=\\'ocrx_word\\' id=\\'word_1_42\\' title=\\'bbox 387 163 395 172; x_wconf 93\\'>a</span>\\n      <span class=\\'ocrx_word\\' id=\\'word_1_43\\' title=\\'bbox 410 158 472 176; x_wconf 79\\'>|\\xe2\\x80\\x99autre</span>\\n     </span>\\n     <span class=\\'ocr_line\\' id=\\'line_1_10\\' title=\"bbox 51 180 424 197; baseline 0 -4; x_size 25.75; x_descenders 5.5; x_ascenders 6.75\">\\n      <span class=\\'ocrx_word\\' id=\\'word_1_44\\' title=\\'bbox 51 180 68 193; x_wconf 92\\'>la</span>\\n      <span class=\\'ocrx_word\\' id=\\'word_1_45\\' title=\\'bbox 79 180 145 193; x_wconf 90\\'>d\\xc3\\xa9mence</span>\\n      <span class=\\'ocrx_word\\' id=\\'word_1_46\\' title=\\'bbox 156 180 174 193; x_wconf 95\\'>du</span>\\n      <span class=\\'ocrx_word\\' id=\\'word_1_47\\' title=\\'bbox 186 180 258 197; x_wconf 95\\'>chagrin,</span>\\n      <span class=\\'ocrx_word\\' id=\\'word_1_48\\' title=\\'bbox 272 184 318 197; x_wconf 93\\'>parce</span>\\n      <span class=\\'ocrx_word\\' id=\\'word_1_49\\' title=\\'bbox 329 180 385 197; x_wconf 71\\'>qu\\xe2\\x80\\x99ils</span>\\n      <span class=\\'ocrx_word\\' id=\\'word_1_50\\' title=\\'bbox 397 181 424 193; x_wconf 96\\'>ont</span>\\n     </span>\\n     <span class=\\'ocr_line\\' id=\\'line_1_11\\' title=\"bbox 51 202 364 219; baseline 0 -4; x_size 25.75; x_descenders 5.5; x_ascenders 6.75\">\\n      <span class=\\'ocrx_word\\' id=\\'word_1_51\\' title=\\'bbox 51 202 145 219; x_wconf 26\\'>1\\xe2\\x80\\x99\\xc3\\xa9l\\xc3\\xa9gance</span>\\n      <span class=\\'ocrx_word\\' id=\\'word_1_52\\' title=\\'bbox 156 202 174 215; x_wconf 96\\'>de</span>\\n      <span class=\\'ocrx_word\\' id=\\'word_1_53\\' title=\\'bbox 186 202 203 215; x_wconf 93\\'>le</span>\\n      <span class=\\'ocrx_word\\' id=\\'word_1_54\\' title=\\'bbox 214 202 270 219; x_wconf 93\\'>garder</span>\\n      <span class=\\'ocrx_word\\' id=\\'word_1_55\\' title=\\'bbox 282 206 318 219; x_wconf 95\\'>pour</span>\\n      <span class=\\'ocrx_word\\' id=\\'word_1_56\\' title=\\'bbox 330 202 364 215; x_wconf 95\\'>soi.</span>\\n     </span>\\n    </p>\\n   </div>\\n   <div class=\\'ocr_carea\\' id=\\'block_1_5\\' title=\"bbox 22 245 155 258\">\\n    <p class=\\'ocr_par\\' id=\\'par_1_5\\' lang=\\'eng\\' title=\"bbox 22 245 155 258\">\\n     <span class=\\'ocr_line\\' id=\\'line_1_12\\' title=\"bbox 22 245 155 258; baseline 0 0; x_size 17.333332; x_descenders 4.333333; x_ascenders 4.3333335\">\\n      <span class=\\'ocrx_word\\' id=\\'word_1_57\\' title=\\'bbox 22 247 39 258; x_wconf 93\\'>La</span>\\n      <span class=\\'ocrx_word\\' id=\\'word_1_58\\' title=\\'bbox 50 245 155 258; x_wconf 91\\'>d\\xc3\\xa9licatesse</span>\\n     </span>\\n    </p>\\n   </div>\\n  </div>\\n </body>\\n</html>\\n'"
            ]
          },
          "metadata": {},
          "execution_count": 7
        }
      ]
    },
    {
      "cell_type": "code",
      "source": [
        "from bs4 import BeautifulSoup\n",
        "\n",
        "with open(hocr_file_path, 'r', encoding='utf-8') as file:\n",
        "    soup = BeautifulSoup(file, 'html.parser')\n",
        "\n",
        "# Extract text block by block\n",
        "structured_text = \"\"\n",
        "for block in soup.find_all(class_='ocr_par'):\n",
        "    for line in block.find_all(class_='ocr_line'):\n",
        "        words = [word.get_text() for word in line.find_all(class_='ocrx_word')]\n",
        "        line_text = ' '.join(words).strip()\n",
        "        if line_text:\n",
        "            structured_text += '    ' + line_text + '\\n'  # 4-space indentation\n",
        "    structured_text += '\\n'  # Paragraph break\n",
        "\n",
        "print(\"=== Texte structuré ===\\n\")\n",
        "print(structured_text)\n"
      ],
      "metadata": {
        "colab": {
          "base_uri": "https://localhost:8080/"
        },
        "id": "PuFbnsi13Bs1",
        "outputId": "2d63d635-2708-4499-907e-76239cf253bb"
      },
      "execution_count": 8,
      "outputs": [
        {
          "output_type": "stream",
          "name": "stdout",
          "text": [
            "=== Texte structuré ===\n",
            "\n",
            "\n",
            "    Texte corrigé automatiquement\n",
            "    J’ admire\n",
            "\n",
            "\n",
            "    Jai une grande affection pour les personnes\n",
            "    qui hurlent en silence, dont le sourire, quasi\n",
            "    parfait, cache une cicatrice brillante. J’admire\n",
            "    ces gens-18 parce qu’ils ont, sans le savoir,\n",
            "    intelligence de ne pas transmettre a |’autre\n",
            "    la démence du chagrin, parce qu’ils ont\n",
            "    1’élégance de le garder pour soi.\n",
            "\n",
            "    La délicatesse\n",
            "\n",
            "\n"
          ]
        }
      ]
    }
  ]
}